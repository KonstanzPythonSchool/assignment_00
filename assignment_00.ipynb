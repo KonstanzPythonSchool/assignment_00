{
 "cells": [
  {
   "cell_type": "markdown",
   "metadata": {},
   "source": [
    "1. Please make sure you have accomplished the following tasks by editing the list below. To edit a so called cell in Jupyter Notebook, double click the text you want to edit. The appearance of the cell will change a little bit. Replace `_` by `x` to show that you finished this tast. \n",
    "2. Click *Save and Checkpoint* if you have checked each point of the list.\n",
    "3. Close this Jupyter Notebook and procede with commiting to GitHub. \n",
    "\n"
   ]
  },
  {
   "cell_type": "markdown",
   "metadata": {},
   "source": [
    "- [_] I have installed ANACONDA 3.\n",
    "- [_] I have installed GitHub Desktop.\n",
    "- [_] I have cloned course materials for day 1."
   ]
  },
  {
   "cell_type": "code",
   "execution_count": null,
   "metadata": {},
   "outputs": [],
   "source": []
  }
 ],
 "metadata": {
  "kernelspec": {
   "display_name": "Python 3",
   "language": "python",
   "name": "python3"
  },
  "language_info": {
   "codemirror_mode": {
    "name": "ipython",
    "version": 3
   },
   "file_extension": ".py",
   "mimetype": "text/x-python",
   "name": "python",
   "nbconvert_exporter": "python",
   "pygments_lexer": "ipython3",
   "version": "3.5.2"
  },
  "toc": {
   "base_numbering": 1,
   "nav_menu": {},
   "number_sections": true,
   "sideBar": true,
   "skip_h1_title": false,
   "title_cell": "Table of Contents",
   "title_sidebar": "Contents",
   "toc_cell": false,
   "toc_position": {},
   "toc_section_display": true,
   "toc_window_display": false
  }
 },
 "nbformat": 4,
 "nbformat_minor": 2
}
